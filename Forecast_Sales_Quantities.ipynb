{
 "cells": [
  {
   "cell_type": "code",
   "execution_count": 172,
   "metadata": {},
   "outputs": [],
   "source": [
    "import numpy as np\n",
    "import pandas as pd\n",
    "import sklearn\n",
    "import matplotlib.pyplot as plt\n",
    "import matplotlib\n",
    "import seaborn as sns\n",
    "%matplotlib inline"
   ]
  },
  {
   "cell_type": "code",
   "execution_count": 128,
   "metadata": {},
   "outputs": [],
   "source": [
    "df = pd.read_csv('/cxldata/datasets/project/sales_historical_sales_value.csv')"
   ]
  },
  {
   "cell_type": "code",
   "execution_count": 129,
   "metadata": {},
   "outputs": [
    {
     "data": {
      "text/html": [
       "<div>\n",
       "<style scoped>\n",
       "    .dataframe tbody tr th:only-of-type {\n",
       "        vertical-align: middle;\n",
       "    }\n",
       "\n",
       "    .dataframe tbody tr th {\n",
       "        vertical-align: top;\n",
       "    }\n",
       "\n",
       "    .dataframe thead th {\n",
       "        text-align: right;\n",
       "    }\n",
       "</style>\n",
       "<table border=\"1\" class=\"dataframe\">\n",
       "  <thead>\n",
       "    <tr style=\"text-align: right;\">\n",
       "      <th></th>\n",
       "      <th>ID1</th>\n",
       "      <th>ID2</th>\n",
       "      <th>time</th>\n",
       "      <th>value</th>\n",
       "    </tr>\n",
       "  </thead>\n",
       "  <tbody>\n",
       "    <tr>\n",
       "      <td>0</td>\n",
       "      <td>1</td>\n",
       "      <td>2</td>\n",
       "      <td>11/13/2010 12:00:00 AM</td>\n",
       "      <td>130</td>\n",
       "    </tr>\n",
       "    <tr>\n",
       "      <td>1</td>\n",
       "      <td>1</td>\n",
       "      <td>2</td>\n",
       "      <td>11/20/2010 12:00:00 AM</td>\n",
       "      <td>222</td>\n",
       "    </tr>\n",
       "    <tr>\n",
       "      <td>2</td>\n",
       "      <td>1</td>\n",
       "      <td>2</td>\n",
       "      <td>11/27/2010 12:00:00 AM</td>\n",
       "      <td>166</td>\n",
       "    </tr>\n",
       "    <tr>\n",
       "      <td>3</td>\n",
       "      <td>1</td>\n",
       "      <td>2</td>\n",
       "      <td>12/4/2010 12:00:00 AM</td>\n",
       "      <td>174</td>\n",
       "    </tr>\n",
       "    <tr>\n",
       "      <td>4</td>\n",
       "      <td>1</td>\n",
       "      <td>2</td>\n",
       "      <td>12/11/2010 12:00:00 AM</td>\n",
       "      <td>236</td>\n",
       "    </tr>\n",
       "  </tbody>\n",
       "</table>\n",
       "</div>"
      ],
      "text/plain": [
       "   ID1  ID2                    time  value\n",
       "0    1    2  11/13/2010 12:00:00 AM    130\n",
       "1    1    2  11/20/2010 12:00:00 AM    222\n",
       "2    1    2  11/27/2010 12:00:00 AM    166\n",
       "3    1    2   12/4/2010 12:00:00 AM    174\n",
       "4    1    2  12/11/2010 12:00:00 AM    236"
      ]
     },
     "execution_count": 129,
     "metadata": {},
     "output_type": "execute_result"
    }
   ],
   "source": [
    "df.head()"
   ]
  },
  {
   "cell_type": "code",
   "execution_count": 130,
   "metadata": {},
   "outputs": [],
   "source": [
    "df1 = pd.read_csv('/cxldata/datasets/project/sales_disposable_personal_income.csv')"
   ]
  },
  {
   "cell_type": "code",
   "execution_count": 131,
   "metadata": {},
   "outputs": [
    {
     "data": {
      "text/html": [
       "<div>\n",
       "<style scoped>\n",
       "    .dataframe tbody tr th:only-of-type {\n",
       "        vertical-align: middle;\n",
       "    }\n",
       "\n",
       "    .dataframe tbody tr th {\n",
       "        vertical-align: top;\n",
       "    }\n",
       "\n",
       "    .dataframe thead th {\n",
       "        text-align: right;\n",
       "    }\n",
       "</style>\n",
       "<table border=\"1\" class=\"dataframe\">\n",
       "  <thead>\n",
       "    <tr style=\"text-align: right;\">\n",
       "      <th></th>\n",
       "      <th>time</th>\n",
       "      <th>value</th>\n",
       "    </tr>\n",
       "  </thead>\n",
       "  <tbody>\n",
       "    <tr>\n",
       "      <td>0</td>\n",
       "      <td>11/7/2009 12:00:00 AM</td>\n",
       "      <td>10886.9</td>\n",
       "    </tr>\n",
       "    <tr>\n",
       "      <td>1</td>\n",
       "      <td>11/14/2009 12:00:00 AM</td>\n",
       "      <td>10886.9</td>\n",
       "    </tr>\n",
       "    <tr>\n",
       "      <td>2</td>\n",
       "      <td>11/21/2009 12:00:00 AM</td>\n",
       "      <td>10886.9</td>\n",
       "    </tr>\n",
       "    <tr>\n",
       "      <td>3</td>\n",
       "      <td>11/28/2009 12:00:00 AM</td>\n",
       "      <td>10886.9</td>\n",
       "    </tr>\n",
       "    <tr>\n",
       "      <td>4</td>\n",
       "      <td>12/5/2009 12:00:00 AM</td>\n",
       "      <td>10924.7</td>\n",
       "    </tr>\n",
       "  </tbody>\n",
       "</table>\n",
       "</div>"
      ],
      "text/plain": [
       "                     time    value\n",
       "0   11/7/2009 12:00:00 AM  10886.9\n",
       "1  11/14/2009 12:00:00 AM  10886.9\n",
       "2  11/21/2009 12:00:00 AM  10886.9\n",
       "3  11/28/2009 12:00:00 AM  10886.9\n",
       "4   12/5/2009 12:00:00 AM  10924.7"
      ]
     },
     "execution_count": 131,
     "metadata": {},
     "output_type": "execute_result"
    }
   ],
   "source": [
    "df1.head()"
   ]
  },
  {
   "cell_type": "code",
   "execution_count": 132,
   "metadata": {},
   "outputs": [
    {
     "data": {
      "text/html": [
       "<div>\n",
       "<style scoped>\n",
       "    .dataframe tbody tr th:only-of-type {\n",
       "        vertical-align: middle;\n",
       "    }\n",
       "\n",
       "    .dataframe tbody tr th {\n",
       "        vertical-align: top;\n",
       "    }\n",
       "\n",
       "    .dataframe thead th {\n",
       "        text-align: right;\n",
       "    }\n",
       "</style>\n",
       "<table border=\"1\" class=\"dataframe\">\n",
       "  <thead>\n",
       "    <tr style=\"text-align: right;\">\n",
       "      <th></th>\n",
       "      <th>ID1</th>\n",
       "      <th>ID2</th>\n",
       "      <th>time</th>\n",
       "      <th>value_x</th>\n",
       "      <th>value_y</th>\n",
       "    </tr>\n",
       "  </thead>\n",
       "  <tbody>\n",
       "    <tr>\n",
       "      <td>0</td>\n",
       "      <td>1</td>\n",
       "      <td>2</td>\n",
       "      <td>11/13/2010 12:00:00 AM</td>\n",
       "      <td>130</td>\n",
       "      <td>11160.8</td>\n",
       "    </tr>\n",
       "    <tr>\n",
       "      <td>1</td>\n",
       "      <td>2</td>\n",
       "      <td>1</td>\n",
       "      <td>11/13/2010 12:00:00 AM</td>\n",
       "      <td>142</td>\n",
       "      <td>11160.8</td>\n",
       "    </tr>\n",
       "    <tr>\n",
       "      <td>2</td>\n",
       "      <td>3</td>\n",
       "      <td>1</td>\n",
       "      <td>11/13/2010 12:00:00 AM</td>\n",
       "      <td>70</td>\n",
       "      <td>11160.8</td>\n",
       "    </tr>\n",
       "    <tr>\n",
       "      <td>3</td>\n",
       "      <td>4</td>\n",
       "      <td>2</td>\n",
       "      <td>11/13/2010 12:00:00 AM</td>\n",
       "      <td>314</td>\n",
       "      <td>11160.8</td>\n",
       "    </tr>\n",
       "    <tr>\n",
       "      <td>4</td>\n",
       "      <td>5</td>\n",
       "      <td>1</td>\n",
       "      <td>11/13/2010 12:00:00 AM</td>\n",
       "      <td>108</td>\n",
       "      <td>11160.8</td>\n",
       "    </tr>\n",
       "    <tr>\n",
       "      <td>...</td>\n",
       "      <td>...</td>\n",
       "      <td>...</td>\n",
       "      <td>...</td>\n",
       "      <td>...</td>\n",
       "      <td>...</td>\n",
       "    </tr>\n",
       "    <tr>\n",
       "      <td>2454</td>\n",
       "      <td>11</td>\n",
       "      <td>1</td>\n",
       "      <td>11/6/2010 12:00:00 AM</td>\n",
       "      <td>122</td>\n",
       "      <td>11160.8</td>\n",
       "    </tr>\n",
       "    <tr>\n",
       "      <td>2455</td>\n",
       "      <td>12</td>\n",
       "      <td>1</td>\n",
       "      <td>11/6/2010 12:00:00 AM</td>\n",
       "      <td>1270</td>\n",
       "      <td>11160.8</td>\n",
       "    </tr>\n",
       "    <tr>\n",
       "      <td>2456</td>\n",
       "      <td>13</td>\n",
       "      <td>1</td>\n",
       "      <td>11/6/2010 12:00:00 AM</td>\n",
       "      <td>958</td>\n",
       "      <td>11160.8</td>\n",
       "    </tr>\n",
       "    <tr>\n",
       "      <td>2457</td>\n",
       "      <td>14</td>\n",
       "      <td>1</td>\n",
       "      <td>11/6/2010 12:00:00 AM</td>\n",
       "      <td>412</td>\n",
       "      <td>11160.8</td>\n",
       "    </tr>\n",
       "    <tr>\n",
       "      <td>2458</td>\n",
       "      <td>15</td>\n",
       "      <td>1</td>\n",
       "      <td>11/6/2010 12:00:00 AM</td>\n",
       "      <td>124</td>\n",
       "      <td>11160.8</td>\n",
       "    </tr>\n",
       "  </tbody>\n",
       "</table>\n",
       "<p>2459 rows × 5 columns</p>\n",
       "</div>"
      ],
      "text/plain": [
       "      ID1  ID2                    time  value_x  value_y\n",
       "0       1    2  11/13/2010 12:00:00 AM      130  11160.8\n",
       "1       2    1  11/13/2010 12:00:00 AM      142  11160.8\n",
       "2       3    1  11/13/2010 12:00:00 AM       70  11160.8\n",
       "3       4    2  11/13/2010 12:00:00 AM      314  11160.8\n",
       "4       5    1  11/13/2010 12:00:00 AM      108  11160.8\n",
       "...   ...  ...                     ...      ...      ...\n",
       "2454   11    1   11/6/2010 12:00:00 AM      122  11160.8\n",
       "2455   12    1   11/6/2010 12:00:00 AM     1270  11160.8\n",
       "2456   13    1   11/6/2010 12:00:00 AM      958  11160.8\n",
       "2457   14    1   11/6/2010 12:00:00 AM      412  11160.8\n",
       "2458   15    1   11/6/2010 12:00:00 AM      124  11160.8\n",
       "\n",
       "[2459 rows x 5 columns]"
      ]
     },
     "execution_count": 132,
     "metadata": {},
     "output_type": "execute_result"
    }
   ],
   "source": [
    "merge_fsdata = pd.merge(df,df1, how = 'inner', on = 'time')\n",
    "merge_fsdata.dropna(axis =1)\n",
    "merge_fsdata"
   ]
  },
  {
   "cell_type": "code",
   "execution_count": 133,
   "metadata": {},
   "outputs": [],
   "source": [
    "merge_data = merge_fsdata[merge_fsdata['value_x']>20]"
   ]
  },
  {
   "cell_type": "code",
   "execution_count": 134,
   "metadata": {},
   "outputs": [
    {
     "data": {
      "text/html": [
       "<div>\n",
       "<style scoped>\n",
       "    .dataframe tbody tr th:only-of-type {\n",
       "        vertical-align: middle;\n",
       "    }\n",
       "\n",
       "    .dataframe tbody tr th {\n",
       "        vertical-align: top;\n",
       "    }\n",
       "\n",
       "    .dataframe thead th {\n",
       "        text-align: right;\n",
       "    }\n",
       "</style>\n",
       "<table border=\"1\" class=\"dataframe\">\n",
       "  <thead>\n",
       "    <tr style=\"text-align: right;\">\n",
       "      <th></th>\n",
       "      <th>ID1</th>\n",
       "      <th>ID2</th>\n",
       "      <th>time</th>\n",
       "      <th>value_x</th>\n",
       "      <th>value_y</th>\n",
       "    </tr>\n",
       "  </thead>\n",
       "  <tbody>\n",
       "    <tr>\n",
       "      <td>0</td>\n",
       "      <td>1</td>\n",
       "      <td>2</td>\n",
       "      <td>11/13/2010 12:00:00 AM</td>\n",
       "      <td>130</td>\n",
       "      <td>11160.8</td>\n",
       "    </tr>\n",
       "    <tr>\n",
       "      <td>1</td>\n",
       "      <td>2</td>\n",
       "      <td>1</td>\n",
       "      <td>11/13/2010 12:00:00 AM</td>\n",
       "      <td>142</td>\n",
       "      <td>11160.8</td>\n",
       "    </tr>\n",
       "    <tr>\n",
       "      <td>2</td>\n",
       "      <td>3</td>\n",
       "      <td>1</td>\n",
       "      <td>11/13/2010 12:00:00 AM</td>\n",
       "      <td>70</td>\n",
       "      <td>11160.8</td>\n",
       "    </tr>\n",
       "    <tr>\n",
       "      <td>3</td>\n",
       "      <td>4</td>\n",
       "      <td>2</td>\n",
       "      <td>11/13/2010 12:00:00 AM</td>\n",
       "      <td>314</td>\n",
       "      <td>11160.8</td>\n",
       "    </tr>\n",
       "    <tr>\n",
       "      <td>4</td>\n",
       "      <td>5</td>\n",
       "      <td>1</td>\n",
       "      <td>11/13/2010 12:00:00 AM</td>\n",
       "      <td>108</td>\n",
       "      <td>11160.8</td>\n",
       "    </tr>\n",
       "  </tbody>\n",
       "</table>\n",
       "</div>"
      ],
      "text/plain": [
       "   ID1  ID2                    time  value_x  value_y\n",
       "0    1    2  11/13/2010 12:00:00 AM      130  11160.8\n",
       "1    2    1  11/13/2010 12:00:00 AM      142  11160.8\n",
       "2    3    1  11/13/2010 12:00:00 AM       70  11160.8\n",
       "3    4    2  11/13/2010 12:00:00 AM      314  11160.8\n",
       "4    5    1  11/13/2010 12:00:00 AM      108  11160.8"
      ]
     },
     "execution_count": 134,
     "metadata": {},
     "output_type": "execute_result"
    }
   ],
   "source": [
    "merge_data.head()"
   ]
  },
  {
   "cell_type": "code",
   "execution_count": 135,
   "metadata": {},
   "outputs": [],
   "source": [
    "merge_data['Date'] = pd.DatetimeIndex(merge_data['time']).date\n",
    "merge_data['year'] = pd.DatetimeIndex(merge_data['time']).year\n",
    "merge_data['month'] = pd.DatetimeIndex(merge_data['time']).month\n",
    "merge_data['dayofweek'] = pd.DatetimeIndex(merge_data['time']).dayofweek\n",
    "merge_data['week'] = pd.DatetimeIndex(merge_data['time']).week"
   ]
  },
  {
   "cell_type": "code",
   "execution_count": 136,
   "metadata": {},
   "outputs": [
    {
     "data": {
      "text/html": [
       "<div>\n",
       "<style scoped>\n",
       "    .dataframe tbody tr th:only-of-type {\n",
       "        vertical-align: middle;\n",
       "    }\n",
       "\n",
       "    .dataframe tbody tr th {\n",
       "        vertical-align: top;\n",
       "    }\n",
       "\n",
       "    .dataframe thead th {\n",
       "        text-align: right;\n",
       "    }\n",
       "</style>\n",
       "<table border=\"1\" class=\"dataframe\">\n",
       "  <thead>\n",
       "    <tr style=\"text-align: right;\">\n",
       "      <th></th>\n",
       "      <th>ID1</th>\n",
       "      <th>ID2</th>\n",
       "      <th>time</th>\n",
       "      <th>value_x</th>\n",
       "      <th>value_y</th>\n",
       "      <th>Date</th>\n",
       "      <th>year</th>\n",
       "      <th>month</th>\n",
       "      <th>dayofweek</th>\n",
       "      <th>week</th>\n",
       "    </tr>\n",
       "  </thead>\n",
       "  <tbody>\n",
       "    <tr>\n",
       "      <td>0</td>\n",
       "      <td>1</td>\n",
       "      <td>2</td>\n",
       "      <td>11/13/2010 12:00:00 AM</td>\n",
       "      <td>130</td>\n",
       "      <td>11160.8</td>\n",
       "      <td>2010-11-13</td>\n",
       "      <td>2010</td>\n",
       "      <td>11</td>\n",
       "      <td>5</td>\n",
       "      <td>45</td>\n",
       "    </tr>\n",
       "    <tr>\n",
       "      <td>1</td>\n",
       "      <td>2</td>\n",
       "      <td>1</td>\n",
       "      <td>11/13/2010 12:00:00 AM</td>\n",
       "      <td>142</td>\n",
       "      <td>11160.8</td>\n",
       "      <td>2010-11-13</td>\n",
       "      <td>2010</td>\n",
       "      <td>11</td>\n",
       "      <td>5</td>\n",
       "      <td>45</td>\n",
       "    </tr>\n",
       "    <tr>\n",
       "      <td>2</td>\n",
       "      <td>3</td>\n",
       "      <td>1</td>\n",
       "      <td>11/13/2010 12:00:00 AM</td>\n",
       "      <td>70</td>\n",
       "      <td>11160.8</td>\n",
       "      <td>2010-11-13</td>\n",
       "      <td>2010</td>\n",
       "      <td>11</td>\n",
       "      <td>5</td>\n",
       "      <td>45</td>\n",
       "    </tr>\n",
       "    <tr>\n",
       "      <td>3</td>\n",
       "      <td>4</td>\n",
       "      <td>2</td>\n",
       "      <td>11/13/2010 12:00:00 AM</td>\n",
       "      <td>314</td>\n",
       "      <td>11160.8</td>\n",
       "      <td>2010-11-13</td>\n",
       "      <td>2010</td>\n",
       "      <td>11</td>\n",
       "      <td>5</td>\n",
       "      <td>45</td>\n",
       "    </tr>\n",
       "    <tr>\n",
       "      <td>4</td>\n",
       "      <td>5</td>\n",
       "      <td>1</td>\n",
       "      <td>11/13/2010 12:00:00 AM</td>\n",
       "      <td>108</td>\n",
       "      <td>11160.8</td>\n",
       "      <td>2010-11-13</td>\n",
       "      <td>2010</td>\n",
       "      <td>11</td>\n",
       "      <td>5</td>\n",
       "      <td>45</td>\n",
       "    </tr>\n",
       "  </tbody>\n",
       "</table>\n",
       "</div>"
      ],
      "text/plain": [
       "   ID1  ID2                    time  value_x  value_y        Date  year  \\\n",
       "0    1    2  11/13/2010 12:00:00 AM      130  11160.8  2010-11-13  2010   \n",
       "1    2    1  11/13/2010 12:00:00 AM      142  11160.8  2010-11-13  2010   \n",
       "2    3    1  11/13/2010 12:00:00 AM       70  11160.8  2010-11-13  2010   \n",
       "3    4    2  11/13/2010 12:00:00 AM      314  11160.8  2010-11-13  2010   \n",
       "4    5    1  11/13/2010 12:00:00 AM      108  11160.8  2010-11-13  2010   \n",
       "\n",
       "   month  dayofweek  week  \n",
       "0     11          5    45  \n",
       "1     11          5    45  \n",
       "2     11          5    45  \n",
       "3     11          5    45  \n",
       "4     11          5    45  "
      ]
     },
     "execution_count": 136,
     "metadata": {},
     "output_type": "execute_result"
    }
   ],
   "source": [
    "merge_data.head()"
   ]
  },
  {
   "cell_type": "code",
   "execution_count": 137,
   "metadata": {},
   "outputs": [
    {
     "name": "stdout",
     "output_type": "stream",
     "text": [
      "<class 'pandas.core.frame.DataFrame'>\n",
      "Int64Index: 2459 entries, 0 to 2458\n",
      "Data columns (total 10 columns):\n",
      "ID1          2459 non-null int64\n",
      "ID2          2459 non-null int64\n",
      "time         2459 non-null object\n",
      "value_x      2459 non-null int64\n",
      "value_y      2459 non-null float64\n",
      "Date         2459 non-null object\n",
      "year         2459 non-null int64\n",
      "month        2459 non-null int64\n",
      "dayofweek    2459 non-null int64\n",
      "week         2459 non-null int64\n",
      "dtypes: float64(1), int64(7), object(2)\n",
      "memory usage: 211.3+ KB\n"
     ]
    }
   ],
   "source": [
    "merge_data.info()"
   ]
  },
  {
   "cell_type": "code",
   "execution_count": 138,
   "metadata": {},
   "outputs": [],
   "source": [
    "from sklearn.preprocessing import StandardScaler"
   ]
  },
  {
   "cell_type": "code",
   "execution_count": 139,
   "metadata": {},
   "outputs": [
    {
     "data": {
      "text/html": [
       "<div>\n",
       "<style scoped>\n",
       "    .dataframe tbody tr th:only-of-type {\n",
       "        vertical-align: middle;\n",
       "    }\n",
       "\n",
       "    .dataframe tbody tr th {\n",
       "        vertical-align: top;\n",
       "    }\n",
       "\n",
       "    .dataframe thead th {\n",
       "        text-align: right;\n",
       "    }\n",
       "</style>\n",
       "<table border=\"1\" class=\"dataframe\">\n",
       "  <thead>\n",
       "    <tr style=\"text-align: right;\">\n",
       "      <th></th>\n",
       "      <th>value_x</th>\n",
       "      <th>value_y</th>\n",
       "    </tr>\n",
       "  </thead>\n",
       "  <tbody>\n",
       "    <tr>\n",
       "      <td>count</td>\n",
       "      <td>2.459000e+03</td>\n",
       "      <td>2.459000e+03</td>\n",
       "    </tr>\n",
       "    <tr>\n",
       "      <td>mean</td>\n",
       "      <td>5.499193e-17</td>\n",
       "      <td>-6.781255e-15</td>\n",
       "    </tr>\n",
       "    <tr>\n",
       "      <td>std</td>\n",
       "      <td>1.000203e+00</td>\n",
       "      <td>1.000203e+00</td>\n",
       "    </tr>\n",
       "    <tr>\n",
       "      <td>min</td>\n",
       "      <td>-1.037732e+00</td>\n",
       "      <td>-1.790824e+00</td>\n",
       "    </tr>\n",
       "    <tr>\n",
       "      <td>25%</td>\n",
       "      <td>-6.959294e-01</td>\n",
       "      <td>-9.800877e-01</td>\n",
       "    </tr>\n",
       "    <tr>\n",
       "      <td>50%</td>\n",
       "      <td>-3.427337e-01</td>\n",
       "      <td>2.307710e-01</td>\n",
       "    </tr>\n",
       "    <tr>\n",
       "      <td>75%</td>\n",
       "      <td>3.209326e-01</td>\n",
       "      <td>6.165862e-01</td>\n",
       "    </tr>\n",
       "    <tr>\n",
       "      <td>max</td>\n",
       "      <td>5.473603e+00</td>\n",
       "      <td>3.232404e+00</td>\n",
       "    </tr>\n",
       "  </tbody>\n",
       "</table>\n",
       "</div>"
      ],
      "text/plain": [
       "            value_x       value_y\n",
       "count  2.459000e+03  2.459000e+03\n",
       "mean   5.499193e-17 -6.781255e-15\n",
       "std    1.000203e+00  1.000203e+00\n",
       "min   -1.037732e+00 -1.790824e+00\n",
       "25%   -6.959294e-01 -9.800877e-01\n",
       "50%   -3.427337e-01  2.307710e-01\n",
       "75%    3.209326e-01  6.165862e-01\n",
       "max    5.473603e+00  3.232404e+00"
      ]
     },
     "execution_count": 139,
     "metadata": {},
     "output_type": "execute_result"
    }
   ],
   "source": [
    "columnsToScale = ['value_x','value_y']\n",
    "scaler = StandardScaler()\n",
    "merge_data[columnsToScale] = scaler.fit_transform(merge_data[columnsToScale])\n",
    "merge_data[columnsToScale].describe()"
   ]
  },
  {
   "cell_type": "code",
   "execution_count": 167,
   "metadata": {},
   "outputs": [
    {
     "data": {
      "text/html": [
       "<div>\n",
       "<style scoped>\n",
       "    .dataframe tbody tr th:only-of-type {\n",
       "        vertical-align: middle;\n",
       "    }\n",
       "\n",
       "    .dataframe tbody tr th {\n",
       "        vertical-align: top;\n",
       "    }\n",
       "\n",
       "    .dataframe thead th {\n",
       "        text-align: right;\n",
       "    }\n",
       "</style>\n",
       "<table border=\"1\" class=\"dataframe\">\n",
       "  <thead>\n",
       "    <tr style=\"text-align: right;\">\n",
       "      <th></th>\n",
       "      <th>ID1</th>\n",
       "      <th>ID2</th>\n",
       "      <th>time</th>\n",
       "      <th>value_x</th>\n",
       "      <th>value_y</th>\n",
       "      <th>Date</th>\n",
       "      <th>year</th>\n",
       "      <th>month</th>\n",
       "      <th>dayofweek</th>\n",
       "      <th>week</th>\n",
       "    </tr>\n",
       "  </thead>\n",
       "  <tbody>\n",
       "    <tr>\n",
       "      <td>0</td>\n",
       "      <td>1</td>\n",
       "      <td>2</td>\n",
       "      <td>11/13/2010 12:00:00 AM</td>\n",
       "      <td>-0.747200</td>\n",
       "      <td>-1.790824</td>\n",
       "      <td>2010-11-13</td>\n",
       "      <td>2010</td>\n",
       "      <td>11</td>\n",
       "      <td>5</td>\n",
       "      <td>45</td>\n",
       "    </tr>\n",
       "    <tr>\n",
       "      <td>1</td>\n",
       "      <td>2</td>\n",
       "      <td>1</td>\n",
       "      <td>11/13/2010 12:00:00 AM</td>\n",
       "      <td>-0.713020</td>\n",
       "      <td>-1.790824</td>\n",
       "      <td>2010-11-13</td>\n",
       "      <td>2010</td>\n",
       "      <td>11</td>\n",
       "      <td>5</td>\n",
       "      <td>45</td>\n",
       "    </tr>\n",
       "    <tr>\n",
       "      <td>2</td>\n",
       "      <td>3</td>\n",
       "      <td>1</td>\n",
       "      <td>11/13/2010 12:00:00 AM</td>\n",
       "      <td>-0.918101</td>\n",
       "      <td>-1.790824</td>\n",
       "      <td>2010-11-13</td>\n",
       "      <td>2010</td>\n",
       "      <td>11</td>\n",
       "      <td>5</td>\n",
       "      <td>45</td>\n",
       "    </tr>\n",
       "    <tr>\n",
       "      <td>3</td>\n",
       "      <td>4</td>\n",
       "      <td>2</td>\n",
       "      <td>11/13/2010 12:00:00 AM</td>\n",
       "      <td>-0.223103</td>\n",
       "      <td>-1.790824</td>\n",
       "      <td>2010-11-13</td>\n",
       "      <td>2010</td>\n",
       "      <td>11</td>\n",
       "      <td>5</td>\n",
       "      <td>45</td>\n",
       "    </tr>\n",
       "    <tr>\n",
       "      <td>4</td>\n",
       "      <td>5</td>\n",
       "      <td>1</td>\n",
       "      <td>11/13/2010 12:00:00 AM</td>\n",
       "      <td>-0.809864</td>\n",
       "      <td>-1.790824</td>\n",
       "      <td>2010-11-13</td>\n",
       "      <td>2010</td>\n",
       "      <td>11</td>\n",
       "      <td>5</td>\n",
       "      <td>45</td>\n",
       "    </tr>\n",
       "  </tbody>\n",
       "</table>\n",
       "</div>"
      ],
      "text/plain": [
       "   ID1  ID2                    time   value_x   value_y        Date  year  \\\n",
       "0    1    2  11/13/2010 12:00:00 AM -0.747200 -1.790824  2010-11-13  2010   \n",
       "1    2    1  11/13/2010 12:00:00 AM -0.713020 -1.790824  2010-11-13  2010   \n",
       "2    3    1  11/13/2010 12:00:00 AM -0.918101 -1.790824  2010-11-13  2010   \n",
       "3    4    2  11/13/2010 12:00:00 AM -0.223103 -1.790824  2010-11-13  2010   \n",
       "4    5    1  11/13/2010 12:00:00 AM -0.809864 -1.790824  2010-11-13  2010   \n",
       "\n",
       "   month  dayofweek  week  \n",
       "0     11          5    45  \n",
       "1     11          5    45  \n",
       "2     11          5    45  \n",
       "3     11          5    45  \n",
       "4     11          5    45  "
      ]
     },
     "execution_count": 167,
     "metadata": {},
     "output_type": "execute_result"
    }
   ],
   "source": [
    "merge_data.head()"
   ]
  },
  {
   "cell_type": "code",
   "execution_count": 141,
   "metadata": {},
   "outputs": [],
   "source": [
    "def split(data, test_size): \n",
    "    shuffled_index=np.random.permutation(len(data)) #do shuffling of the rows. \n",
    "    test_set_size=int(len(df)*test_size) #test size 20% \n",
    "    test_index=shuffled_index[:test_set_size]\n",
    "    train_index=shuffled_index[test_set_size:]\n",
    "    return ( data.iloc[train_index], data.iloc[test_index] )"
   ]
  },
  {
   "cell_type": "code",
   "execution_count": 164,
   "metadata": {},
   "outputs": [],
   "source": [
    "from sklearn.model_selection import train_test_split\n",
    "train_set,test_set = split(merge_data,test_size =0.2)"
   ]
  },
  {
   "cell_type": "code",
   "execution_count": 143,
   "metadata": {},
   "outputs": [],
   "source": [
    "X_train = train_set.drop(['time','Date'], axis=1)\n",
    "y_train = train_set['value_x']"
   ]
  },
  {
   "cell_type": "code",
   "execution_count": 144,
   "metadata": {},
   "outputs": [],
   "source": [
    "X_test = test_set.drop(['time','Date'], axis=1)\n",
    "y_test = test_set['value_x']"
   ]
  },
  {
   "cell_type": "code",
   "execution_count": 145,
   "metadata": {},
   "outputs": [],
   "source": [
    "#X_testset = test_set.loc[:,X_test]\n",
    "#y_testset = test_set.loc[:,y_test]"
   ]
  },
  {
   "cell_type": "code",
   "execution_count": 146,
   "metadata": {},
   "outputs": [],
   "source": [
    "from sklearn.linear_model import LinearRegression\n",
    "from sklearn.model_selection import cross_val_score\n",
    "from sklearn.model_selection import cross_val_predict"
   ]
  },
  {
   "cell_type": "code",
   "execution_count": 147,
   "metadata": {},
   "outputs": [],
   "source": [
    "lin_reg = LinearRegression()"
   ]
  },
  {
   "cell_type": "code",
   "execution_count": 148,
   "metadata": {},
   "outputs": [
    {
     "data": {
      "text/plain": [
       "LinearRegression(copy_X=True, fit_intercept=True, n_jobs=None, normalize=False)"
      ]
     },
     "execution_count": 148,
     "metadata": {},
     "output_type": "execute_result"
    }
   ],
   "source": [
    "lin_reg.fit(X_train,y_train)"
   ]
  },
  {
   "cell_type": "code",
   "execution_count": 149,
   "metadata": {},
   "outputs": [],
   "source": [
    "from sklearn.metrics import confusion_matrix, classification_report"
   ]
  },
  {
   "cell_type": "code",
   "execution_count": 150,
   "metadata": {},
   "outputs": [],
   "source": [
    "prediction = lin_reg.predict(X_test)"
   ]
  },
  {
   "cell_type": "code",
   "execution_count": 151,
   "metadata": {},
   "outputs": [],
   "source": [
    "from sklearn import metrics"
   ]
  },
  {
   "cell_type": "code",
   "execution_count": 152,
   "metadata": {},
   "outputs": [
    {
     "name": "stdout",
     "output_type": "stream",
     "text": [
      "3.636495300115239e-15\n"
     ]
    }
   ],
   "source": [
    "print(np.sqrt(metrics.mean_squared_error(y_test,prediction)))"
   ]
  },
  {
   "cell_type": "code",
   "execution_count": 153,
   "metadata": {},
   "outputs": [],
   "source": [
    "lr_mse_scores = np.sqrt(-cross_val_score(lin_reg,X_train,y_train,cv=10,scoring =\"neg_mean_squared_error\"))"
   ]
  },
  {
   "cell_type": "code",
   "execution_count": 165,
   "metadata": {},
   "outputs": [
    {
     "data": {
      "text/plain": [
       "3.60312999501903e-15"
      ]
     },
     "execution_count": 165,
     "metadata": {},
     "output_type": "execute_result"
    }
   ],
   "source": [
    "lr_mse_scores.mean()"
   ]
  },
  {
   "cell_type": "code",
   "execution_count": 155,
   "metadata": {},
   "outputs": [
    {
     "data": {
      "text/plain": [
       "2.463537824210456e-15"
      ]
     },
     "execution_count": 155,
     "metadata": {},
     "output_type": "execute_result"
    }
   ],
   "source": [
    "lr_mse_scores.std()"
   ]
  },
  {
   "cell_type": "code",
   "execution_count": 156,
   "metadata": {},
   "outputs": [],
   "source": [
    "from sklearn.tree import DecisionTreeRegressor"
   ]
  },
  {
   "cell_type": "code",
   "execution_count": 157,
   "metadata": {},
   "outputs": [],
   "source": [
    "dec_reg = DecisionTreeRegressor(random_state = 42)"
   ]
  },
  {
   "cell_type": "code",
   "execution_count": 158,
   "metadata": {},
   "outputs": [
    {
     "data": {
      "text/plain": [
       "DecisionTreeRegressor(ccp_alpha=0.0, criterion='mse', max_depth=None,\n",
       "                      max_features=None, max_leaf_nodes=None,\n",
       "                      min_impurity_decrease=0.0, min_impurity_split=None,\n",
       "                      min_samples_leaf=1, min_samples_split=2,\n",
       "                      min_weight_fraction_leaf=0.0, presort='deprecated',\n",
       "                      random_state=42, splitter='best')"
      ]
     },
     "execution_count": 158,
     "metadata": {},
     "output_type": "execute_result"
    }
   ],
   "source": [
    "dec_reg.fit(X_train,y_train)"
   ]
  },
  {
   "cell_type": "code",
   "execution_count": 159,
   "metadata": {},
   "outputs": [],
   "source": [
    "pred =dec_reg.predict(X_test)"
   ]
  },
  {
   "cell_type": "code",
   "execution_count": 160,
   "metadata": {},
   "outputs": [],
   "source": [
    "y_train_pred = dec_reg.predict(X_train)"
   ]
  },
  {
   "cell_type": "code",
   "execution_count": 161,
   "metadata": {},
   "outputs": [],
   "source": [
    "dt_mse_scores = np.sqrt(-cross_val_score(dec_reg,X_train,y_train,cv=10,scoring =\"neg_mean_squared_error\"))"
   ]
  },
  {
   "cell_type": "code",
   "execution_count": 162,
   "metadata": {},
   "outputs": [
    {
     "data": {
      "text/plain": [
       "0.01105561135308584"
      ]
     },
     "execution_count": 162,
     "metadata": {},
     "output_type": "execute_result"
    }
   ],
   "source": [
    "dt_mse_scores.mean()"
   ]
  },
  {
   "cell_type": "code",
   "execution_count": 163,
   "metadata": {},
   "outputs": [
    {
     "data": {
      "text/plain": [
       "0.00646953500738526"
      ]
     },
     "execution_count": 163,
     "metadata": {},
     "output_type": "execute_result"
    }
   ],
   "source": [
    "dt_mse_scores.std()"
   ]
  },
  {
   "cell_type": "code",
   "execution_count": null,
   "metadata": {},
   "outputs": [],
   "source": []
  }
 ],
 "metadata": {
  "kernelspec": {
   "display_name": "Python 3",
   "language": "python",
   "name": "python3"
  },
  "language_info": {
   "codemirror_mode": {
    "name": "ipython",
    "version": 3
   },
   "file_extension": ".py",
   "mimetype": "text/x-python",
   "name": "python",
   "nbconvert_exporter": "python",
   "pygments_lexer": "ipython3",
   "version": "3.6.8"
  },
  "toc": {
   "base_numbering": 1,
   "nav_menu": {},
   "number_sections": true,
   "sideBar": true,
   "skip_h1_title": false,
   "title_cell": "Table of Contents",
   "title_sidebar": "Contents",
   "toc_cell": false,
   "toc_position": {},
   "toc_section_display": true,
   "toc_window_display": false
  }
 },
 "nbformat": 4,
 "nbformat_minor": 2
}
